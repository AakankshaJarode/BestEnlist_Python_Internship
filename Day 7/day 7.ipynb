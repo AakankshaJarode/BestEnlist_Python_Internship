{
 "cells": [
  {
   "cell_type": "markdown",
   "metadata": {},
   "source": [
    "# Day 7 – PIP & MODULES"
   ]
  },
  {
   "cell_type": "markdown",
   "metadata": {},
   "source": [
    "•\tModule is a set of file/function which can be included in the project\n",
    "\n",
    "•\tCreate a .py file and save it in the location of bin\n",
    "\n",
    "    def mymodule(var):\n",
    "      print(\"Hi \" + var)\n",
    "\n",
    "•\tWe can use the module by importing the py file in the current python file\n",
    "\n",
    "    import mymodule\n",
    "    mymodule.,mymodule(\"Dhoni\")\n",
    "\n",
    "•\tModules can also contain variables in it which can be called from an another python file\n",
    "\n",
    "\n",
    "•\tYou can also name the module by using ‘as’\n",
    "\n",
    "    Import special as sp\n",
    "\n",
    "•\tThere are several built-in modules in Python, which you can import whenever you like on your current python program\n",
    "\n",
    "    Import random\n",
    "    Import sys\n",
    "\n",
    "•\tWe can also take the particular function from a module\n",
    "\n",
    "    Example: from special import name\n",
    "\n",
    "**PIP:**\n",
    "\n",
    "•\tPIP is a package manager for Python packages, or modules\n",
    "\n",
    "•\tWe can download a package by using pip install <module name>\n",
    "\n",
    "    Example: pip install pandas\n",
    "\n",
    "•\tPip list command is used to list the packages present in the system\n",
    "\n"
   ]
  },
  {
   "cell_type": "markdown",
   "metadata": {},
   "source": [
    "# Exercises:\n",
    "**1. Install pandas package** "
   ]
  },
  {
   "cell_type": "code",
   "execution_count": 9,
   "metadata": {},
   "outputs": [],
   "source": [
    "#installed already\n",
    "import pandas as pd"
   ]
  },
  {
   "cell_type": "markdown",
   "metadata": {},
   "source": [
    "**2. Import a module that picks random number and write a program to fetch a random number from 1 to  100 on every run**"
   ]
  },
  {
   "cell_type": "code",
   "execution_count": 7,
   "metadata": {},
   "outputs": [
    {
     "name": "stdout",
     "output_type": "stream",
     "text": [
      "79\n"
     ]
    }
   ],
   "source": [
    "import random\n",
    "a=random.randint(1,100)\n",
    "print(a)"
   ]
  },
  {
   "cell_type": "markdown",
   "metadata": {},
   "source": [
    "**3. Import sys package and find the python path**"
   ]
  },
  {
   "cell_type": "code",
   "execution_count": 8,
   "metadata": {},
   "outputs": [
    {
     "name": "stdout",
     "output_type": "stream",
     "text": [
      "['C:\\\\Users\\\\lenovo', 'C:\\\\Users\\\\lenovo\\\\Anaconda3\\\\python37.zip', 'C:\\\\Users\\\\lenovo\\\\Anaconda3\\\\DLLs', 'C:\\\\Users\\\\lenovo\\\\Anaconda3\\\\lib', 'C:\\\\Users\\\\lenovo\\\\Anaconda3', '', 'C:\\\\Users\\\\lenovo\\\\Anaconda3\\\\lib\\\\site-packages', 'C:\\\\Users\\\\lenovo\\\\Anaconda3\\\\lib\\\\site-packages\\\\win32', 'C:\\\\Users\\\\lenovo\\\\Anaconda3\\\\lib\\\\site-packages\\\\win32\\\\lib', 'C:\\\\Users\\\\lenovo\\\\Anaconda3\\\\lib\\\\site-packages\\\\Pythonwin', 'C:\\\\Users\\\\lenovo\\\\Anaconda3\\\\lib\\\\site-packages\\\\IPython\\\\extensions', 'C:\\\\Users\\\\lenovo\\\\.ipython']\n"
     ]
    }
   ],
   "source": [
    "import sys\n",
    "print(sys.path)"
   ]
  },
  {
   "cell_type": "markdown",
   "metadata": {},
   "source": [
    "**Completed Day 7's notes & exercises**\n",
    "\n",
    "**THANK YOU!**\n",
    "\n",
    "Check out My Repository at https://github.com/AakankshaJarode/BestEnlist_Python_Internship.git\n",
    "\n",
    "Chech out My LinkedIn Page at https://www.linkedin.com/in/aakanksha-jarode-1b0195179"
   ]
  }
 ],
 "metadata": {
  "kernelspec": {
   "display_name": "Python 3",
   "language": "python",
   "name": "python3"
  },
  "language_info": {
   "codemirror_mode": {
    "name": "ipython",
    "version": 3
   },
   "file_extension": ".py",
   "mimetype": "text/x-python",
   "name": "python",
   "nbconvert_exporter": "python",
   "pygments_lexer": "ipython3",
   "version": "3.7.3"
  }
 },
 "nbformat": 4,
 "nbformat_minor": 2
}
