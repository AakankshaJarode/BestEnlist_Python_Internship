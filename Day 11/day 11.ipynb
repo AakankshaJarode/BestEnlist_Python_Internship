{
 "cells": [
  {
   "cell_type": "markdown",
   "metadata": {},
   "source": [
    "# Day 11 – Map,Filter,zip,reduce"
   ]
  },
  {
   "cell_type": "markdown",
   "metadata": {},
   "source": [
    "● map() function returns a map object(which is an iterator) of the results after applying the given function to each item of a given iterable (list, tuple etc.)\n",
    "\n",
    "    map(fun, iter)\n",
    "● It is a function to which map passes each element of given iterable. iter : It is a iterable which is to be mapped\n",
    "    \n",
    "    def addition(n): \n",
    "    return n + n\n",
    "    #We double all numbers using map()\n",
    "    numbers = (1, 2, 3, 4) \n",
    "    result = map(addition, numbers) \n",
    "    print(list(result))\n",
    "● map using list of strings\n",
    "\n",
    "    List of strings \n",
    "    l = ['sat', 'bat', 'cat', 'mat'] \n",
    "\n",
    "    map() can listify the list of strings individually \n",
    "    test = list(map(list, l)) \n",
    "    print(test)\n",
    "● The filter() method filters the given sequence with the help of a function that tests each element in the sequence to be true or not.\n",
    "\n",
    "function that filters vowels\n",
    "\n",
    "    def fun(variable): \n",
    "        letters = ['a', 'e', 'i', 'o', 'u'] \n",
    "        if (variable in letters): \n",
    "            return True\n",
    "        else: \n",
    "            return False"
   ]
  },
  {
   "cell_type": "markdown",
   "metadata": {},
   "source": [
    "**sequence**\n",
    "\n",
    "    sequence = ['g', 'e', 'e', 'j', 'k', 's', 'p', 'r'] \n",
    "**using filter function**\n",
    "\n",
    "    filtered = filter(fun, sequence)\n",
    "    print('The filtered letters are:') \n",
    "    for s in filtered: \n",
    "        print(s)\n",
    "● The zip() function returns a zip object, which is an iterator of tuples where the first item in each passed iterator is paired together, and then the second item in each passed iterator are paired together\n",
    "\n",
    "    a = (\"John\", \"Charles\", \"Mike\")\n",
    "    b = (\"Jenny\", \"Christy\", \"Monica\")\n",
    "    x = zip(a, b)\n",
    "● The reduce(fun,seq) function is used to apply a particular function passed in its argument to all of the list elements mentioned in the sequence passed along.This function is defined in “functools” module.\n",
    "\n",
    "    1. At first step, first two elements of sequence are picked and the result is obtained.\n",
    "    2. Next step is to apply the same function to the previously attained result and the number just succeeding the second  element and the result is again stored.\n",
    "    3. This process continues till no more elements are left in the container.\n",
    "    4. The final returned result is returned and printed on console.\n",
    "\n",
    "    import functools \n",
    "    lis = [ 1 , 3, 5, 6, 2, ] \n",
    "\n",
    "    print (\"The sum of the list elements is : \",end=\"\") \n",
    "    print (functools.reduce(lambda a,b : a+b,lis)) \n",
    "\n",
    "    print (\"The maximum element of the list is : \",end=\"\") \n",
    "    print (functools.reduce(lambda a,b : a if a > b else b,lis))"
   ]
  },
  {
   "cell_type": "markdown",
   "metadata": {},
   "source": [
    "# Exercise:\n",
    "**Write a program using zip() function and list() function, create a merged list of tuples from the two lists given.**"
   ]
  },
  {
   "cell_type": "code",
   "execution_count": 1,
   "metadata": {},
   "outputs": [
    {
     "name": "stdout",
     "output_type": "stream",
     "text": [
      "[(1, 2), (2, 4), (3, 6), (4, 8)]\n"
     ]
    }
   ],
   "source": [
    "l1 = [1, 2, 3, 4, 5]\n",
    "l2 = [2, 4, 6, 8]\n",
    "m = list(zip(l1, l2))  \n",
    "print(m)"
   ]
  },
  {
   "cell_type": "markdown",
   "metadata": {},
   "source": [
    "**First create a range from 1 to 8. Then using zip, merge the given list and the range together to create a new list of tuples.**"
   ]
  },
  {
   "cell_type": "code",
   "execution_count": 2,
   "metadata": {},
   "outputs": [
    {
     "name": "stdout",
     "output_type": "stream",
     "text": [
      "[(1, 34), (2, 32), (3, 55), (4, 234), (5, 546), (6, 45), (7, 675)]\n"
     ]
    }
   ],
   "source": [
    "nums1 = [x for x in range(1, 8)]\n",
    "nums2 = [34, 32, 55, 234, 546, 45, 675, 32]\n",
    "zipped_list = list(zip(nums1, nums2))\n",
    "print(zipped_list)"
   ]
  },
  {
   "cell_type": "markdown",
   "metadata": {},
   "source": [
    "**Using sorted() function, sort the list in ascending order.**"
   ]
  },
  {
   "cell_type": "code",
   "execution_count": 6,
   "metadata": {},
   "outputs": [
    {
     "name": "stdout",
     "output_type": "stream",
     "text": [
      "[0, 1, 1, 2, 5, 6, 8]\n"
     ]
    }
   ],
   "source": [
    "x=[2,1,5,6,1,8,0]\n",
    "print(sorted(x))"
   ]
  },
  {
   "cell_type": "markdown",
   "metadata": {},
   "source": [
    "**Write a program using filter function, filter the even numbers so that only odd numbers are passed to the new list.**"
   ]
  },
  {
   "cell_type": "code",
   "execution_count": 8,
   "metadata": {},
   "outputs": [
    {
     "name": "stdout",
     "output_type": "stream",
     "text": [
      "List:  [1, 2, 3, 4, 5, 6, 7, 8, 9, 10, 11, 12, 13, 14, 15]\n",
      "Odd numbers:  [1, 3, 5, 7, 9, 11, 13, 15]\n",
      "Even numbers:  [2, 4, 6, 8, 10, 12, 14]\n"
     ]
    }
   ],
   "source": [
    "l = list(range(1,16))\n",
    "print(\"List: \",l)\n",
    "o = list(filter(lambda x: (x%2 != 0) , l))\n",
    "print(\"Odd numbers: \", o)\n",
    "e = list(filter(lambda x: (x%2 == 0) , l))\n",
    "print(\"Even numbers: \", e)"
   ]
  },
  {
   "cell_type": "markdown",
   "metadata": {},
   "source": [
    "**Completed Day 11's notes & exercises**\n",
    "\n",
    "**THANK YOU!**\n",
    "\n",
    "Check out My Repository at https://github.com/AakankshaJarode/BestEnlist_Python_Internship.git\n",
    "\n",
    "Chech out My LinkedIn Page at https://www.linkedin.com/in/aakanksha-jarode-1b0195179"
   ]
  }
 ],
 "metadata": {
  "kernelspec": {
   "display_name": "Python 3",
   "language": "python",
   "name": "python3"
  },
  "language_info": {
   "codemirror_mode": {
    "name": "ipython",
    "version": 3
   },
   "file_extension": ".py",
   "mimetype": "text/x-python",
   "name": "python",
   "nbconvert_exporter": "python",
   "pygments_lexer": "ipython3",
   "version": "3.7.3"
  }
 },
 "nbformat": 4,
 "nbformat_minor": 2
}
