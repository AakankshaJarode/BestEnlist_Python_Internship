{
 "cells": [
  {
   "cell_type": "markdown",
   "metadata": {},
   "source": [
    "# Day 12- Python JSON "
   ]
  },
  {
   "cell_type": "markdown",
   "metadata": {},
   "source": [
    "•\tPython has a built-in package called json, which can be used to work with JSON data\n",
    "\n",
    "    Import json\n",
    "•\tIf you have a JSON string, you can parse it by using the json.loads() method"
   ]
  },
  {
   "cell_type": "code",
   "execution_count": 1,
   "metadata": {},
   "outputs": [
    {
     "name": "stdout",
     "output_type": "stream",
     "text": [
      "18\n"
     ]
    }
   ],
   "source": [
    "import json\n",
    "# some JSON:\n",
    "x =  '{ \"name\":\"Sachin\", \"age\":18, \"city\":\"Mumbai\"}'\n",
    "# parse x:\n",
    "y = json.loads(x)\n",
    "# the result is a Python dictionary:\n",
    "print(y[\"age\"])"
   ]
  },
  {
   "cell_type": "markdown",
   "metadata": {},
   "source": [
    "•\tIf you have a Python object, you can convert it into a JSON string by using the json.dumps() method."
   ]
  },
  {
   "cell_type": "code",
   "execution_count": 2,
   "metadata": {},
   "outputs": [
    {
     "name": "stdout",
     "output_type": "stream",
     "text": [
      "{\"name\": \"John\", \"age\": 30, \"city\": \"New York\"}\n"
     ]
    }
   ],
   "source": [
    "import json\n",
    "# a Python object (dict):\n",
    "x = {\n",
    "  \"name\": \"John\",\n",
    "  \"age\": 30,\n",
    "  \"city\": \"New York\"\n",
    "}\n",
    "\n",
    "# convert into JSON:\n",
    "y = json.dumps(x)\n",
    "# the result is a JSON string:\n",
    "print(y)"
   ]
  },
  {
   "cell_type": "markdown",
   "metadata": {},
   "source": [
    "•\tYou can convert Python objects of the following types, into JSON strings:\n",
    "\n",
    "    o\tdict\n",
    "    o\tlist\n",
    "    o\ttuple\n",
    "    o\tstring\n",
    "    o\tint\n",
    "    o\tfloat\n",
    "    o\tTrue\n",
    "    o\tFalse\n",
    "    o\tNone\n",
    "    o\tUse the indent parameter to define the numbers of indents\n",
    "•\tYou can also define the separators, default value is (\", \", \": \"), which means using a comma and a space to separate each object, and a colon and a space to separate keys from values\n",
    "\n",
    "•\tjson.dumps(x, indent=4, separators=(\". \", \" = \"))\n",
    "\n",
    "•\tThe json.dumps() method has parameters to order the keys in the result\n",
    "\n",
    "•\tjson.dumps(x, indent=4, sort_keys=True)"
   ]
  },
  {
   "cell_type": "markdown",
   "metadata": {},
   "source": [
    "# Exercise:"
   ]
  },
  {
   "cell_type": "code",
   "execution_count": 1,
   "metadata": {},
   "outputs": [
    {
     "name": "stdout",
     "output_type": "stream",
     "text": [
      "{\"name\": \"Rahul\", \"age\": \"18\", \"city\": \"Delhi\"}\n",
      "[\"a\", \"b\", \"c\", \"d\", \"e\"]\n",
      "[1, 2, \"Apple\", 3]\n",
      "\"Sunny Day\"\n",
      "2\n",
      "5.66\n",
      "true\n",
      "false\n",
      "null\n"
     ]
    }
   ],
   "source": [
    "import json\n",
    "dict1 = {'name':\"Rahul\",'age':'18','city':\"Delhi\"}\n",
    "list1 = ['a','b','c','d','e']\n",
    "tuple1 = (1,2,'Apple',3)\n",
    "string1 = \"Sunny Day\"\n",
    "int1 = 2\n",
    "float1 = 5.66\n",
    "True1 = True \n",
    "False1 = False\n",
    "None1 = None\n",
    "\n",
    "dict2 = json.dumps(dict1)\n",
    "list2 = json.dumps(list1)\n",
    "tuple2 = json.dumps(tuple1)\n",
    "string2 = json.dumps(string1)\n",
    "int2 = json.dumps(int1)\n",
    "float2 = json.dumps(float1)\n",
    "True2 = json.dumps(True1)\n",
    "False2 = json.dumps(False1)\n",
    "None2 = json.dumps(None1)\n",
    "\n",
    "print(dict2)\n",
    "print(list2)\n",
    "print(tuple2)\n",
    "print(string2)\n",
    "print(int2)\n",
    "print(float2)\n",
    "print(True2)\n",
    "print(False2)\n",
    "print(None2)"
   ]
  },
  {
   "cell_type": "markdown",
   "metadata": {},
   "source": [
    "**Completed Day 12's notes & exercises**\n",
    "\n",
    "**THANK YOU!**\n",
    "\n",
    "Check out My Repository at https://github.com/AakankshaJarode/BestEnlist_Python_Internship.git\n",
    "\n",
    "Chech out My LinkedIn Page at https://www.linkedin.com/in/aakanksha-jarode-1b0195179"
   ]
  }
 ],
 "metadata": {
  "kernelspec": {
   "display_name": "Python 3",
   "language": "python",
   "name": "python3"
  },
  "language_info": {
   "codemirror_mode": {
    "name": "ipython",
    "version": 3
   },
   "file_extension": ".py",
   "mimetype": "text/x-python",
   "name": "python",
   "nbconvert_exporter": "python",
   "pygments_lexer": "ipython3",
   "version": "3.7.3"
  }
 },
 "nbformat": 4,
 "nbformat_minor": 2
}
