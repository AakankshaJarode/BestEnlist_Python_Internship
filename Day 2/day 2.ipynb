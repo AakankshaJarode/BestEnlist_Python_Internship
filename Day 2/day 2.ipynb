{
 "cells": [
  {
   "cell_type": "markdown",
   "metadata": {},
   "source": [
    "# Day 2 – VARIABLES & DATA TYPES"
   ]
  },
  {
   "cell_type": "markdown",
   "metadata": {},
   "source": [
    "**Variables**\n",
    "\n",
    "A variable is initially declared to have a specific data type, and any value assigned to it during its lifetime must always have that type, a variable may be assigned a value of one type and then later re-assigned a value of a different type"
   ]
  },
  {
   "cell_type": "code",
   "execution_count": 1,
   "metadata": {},
   "outputs": [
    {
     "name": "stdout",
     "output_type": "stream",
     "text": [
      "2\n"
     ]
    }
   ],
   "source": [
    "number_of_wheels = 2\n",
    "print(number_of_wheels)"
   ]
  },
  {
   "cell_type": "markdown",
   "metadata": {},
   "source": [
    "Variables can store data of different types which has the capability to do different things.\n",
    "\n",
    "**Text Type: str**\n",
    "\n",
    "Numeric Types: int, float, complex\n",
    "\n",
    "Sequence Types: list, tuple, range\n",
    "\n",
    "Mapping Type: dict\n",
    "\n",
    "Set Types: set, frozenset\n",
    "\n",
    "Boolean Type: bool\n",
    "\n",
    "**Intergers:**\n",
    "\n",
    "Example\n",
    "\n",
    "print(123123123123123123123123123123123123123123123123 + 1)\n",
    "\n",
    "123123123123123123123123123123123123123123123124\n",
    "\n",
    "**Floating-point numbers:**\n",
    "\n",
    "Example\n",
    "pie = 3.14 \n",
    "\n",
    "**Complex numbers:**\n",
    "\n",
    "Complex numbers are specified as\n",
    "\n",
    "< real part > + < imaginary part >\n",
    "\n",
    "For Example - 5+10j\n",
    "\n",
    "**Boolean:**\n",
    "\n",
    "Objects of Boolean type may have one of two values True or False\n",
    "\n",
    "**Strings:**\n",
    "\n",
    "Strings are sequences of character data. The string type in Python is called str. \n",
    "Example:\n"
   ]
  },
  {
   "cell_type": "code",
   "execution_count": 2,
   "metadata": {},
   "outputs": [
    {
     "name": "stdout",
     "output_type": "stream",
     "text": [
      "Atlas\n"
     ]
    }
   ],
   "source": [
    "print('Atlas')"
   ]
  },
  {
   "cell_type": "markdown",
   "metadata": {},
   "source": [
    "**Assigning Values to Variables:**"
   ]
  },
  {
   "cell_type": "markdown",
   "metadata": {},
   "source": [
    "Python variables do not need explicit declaration to reserve memory space. The declaration happens automatically when you assign a value to a variable. The equal sign (=) is used to assign values to variables."
   ]
  },
  {
   "cell_type": "code",
   "execution_count": 4,
   "metadata": {},
   "outputs": [
    {
     "name": "stdout",
     "output_type": "stream",
     "text": [
      "5\n",
      "3.14\n",
      "Dhoni\n"
     ]
    }
   ],
   "source": [
    "number = 5                   # An integer assignment\n",
    "pie   = 3.14                 # A floating point\n",
    "Player_name    = \"Dhoni\"     # A string\n",
    "\n",
    "print(number)\n",
    "print(pie)\n",
    "print(Player_name)"
   ]
  },
  {
   "cell_type": "markdown",
   "metadata": {},
   "source": [
    "**Multiple Assignment**\n",
    "\n",
    "Python allows you to assign a single value to several variables simultaneously.\n",
    "\n",
    "For example − Assigning to a same value -> a = b = c = 1\n",
    "\n",
    "You can also assign multiple objects to multiple variables.\n",
    "\n",
    "For example − a,b,c = 18,24,\"Kohli\""
   ]
  },
  {
   "cell_type": "markdown",
   "metadata": {},
   "source": [
    "# Exercise:"
   ]
  },
  {
   "cell_type": "markdown",
   "metadata": {},
   "source": [
    "1) Create three variables (a,b,c) to same value of any integer & do the following\n",
    "\n",
    "a) Divide a by 10\n",
    "\n",
    "b) Multiply b by 50\n",
    "\n",
    "c) Add c value by 60\n"
   ]
  },
  {
   "cell_type": "code",
   "execution_count": 6,
   "metadata": {},
   "outputs": [
    {
     "name": "stdout",
     "output_type": "stream",
     "text": [
      "100.0\n",
      "50000\n",
      "1060\n"
     ]
    }
   ],
   "source": [
    "a = b = c = 1000\n",
    "\n",
    "print(a/10)\n",
    "print(b*50)\n",
    "print(c+60)"
   ]
  },
  {
   "cell_type": "markdown",
   "metadata": {},
   "source": [
    "2) Create a String variable of 5 characters and replace the 3rd character with G"
   ]
  },
  {
   "cell_type": "code",
   "execution_count": 7,
   "metadata": {},
   "outputs": [
    {
     "name": "stdout",
     "output_type": "stream",
     "text": [
      "MoGse\n"
     ]
    }
   ],
   "source": [
    "str = \"Mouse\"\n",
    "str = str.replace(\"u\", \"G\")\n",
    "print(str)"
   ]
  },
  {
   "cell_type": "markdown",
   "metadata": {},
   "source": [
    "3) Create two values (a,b) of int,float data type & convert the vise versa, Hint : convert a from int to float datatype & b from float to int datatype"
   ]
  },
  {
   "cell_type": "code",
   "execution_count": 10,
   "metadata": {},
   "outputs": [
    {
     "name": "stdout",
     "output_type": "stream",
     "text": [
      "10.0\n",
      "3\n"
     ]
    }
   ],
   "source": [
    "a, b = 10, 3.5\n",
    "a = float(a)\n",
    "b = int(b)\n",
    "print(a)\n",
    "print(b)"
   ]
  },
  {
   "cell_type": "markdown",
   "metadata": {},
   "source": [
    "**Completed Day 1's notes & exercises**\n",
    "\n",
    "**THANK YOU!**\n",
    "\n",
    "Check out My Repository at https://github.com/AakankshaJarode/BestEnlist_Python_Internship.git\n",
    "\n",
    "Chech out My LinkedIn Page at https://www.linkedin.com/in/aakanksha-jarode-1b0195179"
   ]
  }
 ],
 "metadata": {
  "kernelspec": {
   "display_name": "Python 3",
   "language": "python",
   "name": "python3"
  },
  "language_info": {
   "codemirror_mode": {
    "name": "ipython",
    "version": 3
   },
   "file_extension": ".py",
   "mimetype": "text/x-python",
   "name": "python",
   "nbconvert_exporter": "python",
   "pygments_lexer": "ipython3",
   "version": "3.7.3"
  }
 },
 "nbformat": 4,
 "nbformat_minor": 2
}
