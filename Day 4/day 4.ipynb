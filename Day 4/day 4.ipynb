{
 "cells": [
  {
   "cell_type": "markdown",
   "metadata": {},
   "source": [
    "# Day 4 – USER INPUTS, LISTS"
   ]
  },
  {
   "cell_type": "markdown",
   "metadata": {},
   "source": [
    "# Python User Input:"
   ]
  },
  {
   "cell_type": "markdown",
   "metadata": {},
   "source": [
    "•\tThe input() function allows user input \n",
    "\n",
    "•\tYou can assign the user input to a variable"
   ]
  },
  {
   "cell_type": "markdown",
   "metadata": {},
   "source": [
    "**Example:**"
   ]
  },
  {
   "cell_type": "code",
   "execution_count": 2,
   "metadata": {},
   "outputs": [
    {
     "name": "stdout",
     "output_type": "stream",
     "text": [
      "Enter your Favourite cricter:pandya\n",
      "Your favourite cricketer is pandya\n"
     ]
    }
   ],
   "source": [
    "x = input('Enter your Favourite cricter:')\n",
    "print('Your favourite cricketer is ' + x)"
   ]
  },
  {
   "cell_type": "markdown",
   "metadata": {},
   "source": [
    "# Python Lists:"
   ]
  },
  {
   "cell_type": "markdown",
   "metadata": {},
   "source": [
    "•\tThe list type is a container that holds a number of other objects, in a given order\n",
    "\n",
    "•\tThe list type allows you to add and remove objects from the sequence.\n",
    "\n",
    "Building a list:\n"
   ]
  },
  {
   "cell_type": "code",
   "execution_count": 3,
   "metadata": {},
   "outputs": [],
   "source": [
    "A = ['a','b','c']\n",
    "B = [1,2,3]"
   ]
  },
  {
   "cell_type": "markdown",
   "metadata": {},
   "source": [
    "Accessing a list:\n",
    "\n",
    "•\tThe number of items in the list, L[i] returns the item at index i (the first item has in-dex 0), and L[i:j] returns a new list, containing the objects between i and j.\n",
    "\n",
    "•\tIndex of list starts from 0\n",
    "\n",
    "    item = L[index]\n",
    "\n",
    "    Example: second_element = A[1]\n",
    "\n",
    "    seq = L[start:stop]\n",
    "Example:"
   ]
  },
  {
   "cell_type": "code",
   "execution_count": 4,
   "metadata": {},
   "outputs": [
    {
     "name": "stdout",
     "output_type": "stream",
     "text": [
      "['b']\n"
     ]
    }
   ],
   "source": [
    "print(A[1:2])"
   ]
  },
  {
   "cell_type": "markdown",
   "metadata": {},
   "source": [
    "•\tIf you pass in a negative index, Python adds the length of the list to the index. L[-1] can be used to access the last item in a list. \n",
    "\n",
    "•\tFor normal indexing, if the resulting index is outside the list, Python raises an Index-Error exception.\n",
    "\n",
    "•\tYou can also add items to an existing sequence. The append method adds a single item to the end of the list, the extend method adds items from another list (or any se-quence) to the end, and insert inserts an item at a given index, and move the remain-ing items to the right.\n",
    "    \n",
    "    L.append(item)\n",
    "    L.extend(sequence)\n",
    "    L.insert(index, item)\n",
    "\n",
    "•\tYou can also remove items. The del statement can be used to remove an individual item, or to remove all items identified by a slice. The pop method removes an indi-vidual item and returns it, while remove searches for an item, and removes the first matching item from the list.\n",
    "\n",
    "    del L[i]\n",
    "    del L[i:j]\n",
    "    item = L.pop() # last item\n",
    "    item = L.pop(0) # first item\n",
    "    item = L.pop(index)\n",
    "    L.remove(item)\n",
    "    \n",
    "•\tTo get the smallest or largest item in a list, use the built-in min and max functions: \n",
    "\n",
    "    lo = min(L)\n",
    "    hi = max(L)\n",
    "    \n",
    "•\tThe sort method sorts a list in place. \n",
    "\n",
    "    L.sort()\n",
    "    \n",
    "•\tTo get a sorted copy, use the built-in sorted function\n",
    "\n",
    "    out = sorted(L)"
   ]
  },
  {
   "cell_type": "markdown",
   "metadata": {},
   "source": [
    "# Python Tuples:"
   ]
  },
  {
   "cell_type": "markdown",
   "metadata": {},
   "source": [
    "•\tA tuple in Python is similar to a list. The difference between the two is that we cannot change the elements of a tuple once it is assigned whereas we can change the elements of a list.\n",
    "\n",
    "•\tA tuple can have any number of items and they may be of different types (integer, float, list, string, etc.)."
   ]
  },
  {
   "cell_type": "code",
   "execution_count": 5,
   "metadata": {},
   "outputs": [
    {
     "name": "stdout",
     "output_type": "stream",
     "text": [
      "(1, 2, 3)\n"
     ]
    }
   ],
   "source": [
    "my_tuple = (1,2,3)\n",
    "print(my_tuple)"
   ]
  },
  {
   "cell_type": "markdown",
   "metadata": {},
   "source": [
    "•\tTuple with mixed datatypes:"
   ]
  },
  {
   "cell_type": "code",
   "execution_count": 6,
   "metadata": {},
   "outputs": [
    {
     "name": "stdout",
     "output_type": "stream",
     "text": [
      "(1, 'Hello', 3.4)\n"
     ]
    }
   ],
   "source": [
    "my_tuple = (1, \"Hello\", 3.4)\n",
    "print(my_tuple)"
   ]
  },
  {
   "cell_type": "markdown",
   "metadata": {},
   "source": [
    "•\tAccessing tuple elements using indexing"
   ]
  },
  {
   "cell_type": "code",
   "execution_count": 7,
   "metadata": {},
   "outputs": [
    {
     "name": "stdout",
     "output_type": "stream",
     "text": [
      "p\n"
     ]
    }
   ],
   "source": [
    "my_tuple = ('p','e','r','m','i','t')\n",
    "print(my_tuple[0])"
   ]
  },
  {
   "cell_type": "markdown",
   "metadata": {},
   "source": [
    "•\tUnlike lists, tuples are immutable ( They cannot be changed)"
   ]
  },
  {
   "cell_type": "markdown",
   "metadata": {},
   "source": [
    "# Exercise:"
   ]
  },
  {
   "cell_type": "markdown",
   "metadata": {},
   "source": [
    "1.\tWrite a program to create a list of n integer values and do the following\n",
    "\n",
    "    •\tAdd an item in to the list (using function)\n",
    "\n",
    "    •\tDelete (using function)\n",
    "\n",
    "    •\tStore the largest number from the list to a variable\n",
    "\n",
    "    •\tStore the Smallest number from the list to a variable"
   ]
  },
  {
   "cell_type": "code",
   "execution_count": 11,
   "metadata": {},
   "outputs": [
    {
     "name": "stdout",
     "output_type": "stream",
     "text": [
      "The value of n is:5\n",
      "[0, 1, 2, 3, 4]\n",
      "The appended list is  [0, 1, 2, 3, 4, 5]\n",
      "The list is after deleting is  [0, 1, 2, 4, 5]\n",
      "The max num is  5\n",
      "The min num is  0\n"
     ]
    }
   ],
   "source": [
    "n = int(input(\"The value of n is:\"))\n",
    "nums = list(range(0, n))\n",
    "print(nums)\n",
    "nums.append(n)\n",
    "print(\"The appended list is \", nums)\n",
    "del nums[3]\n",
    "print(\"The list is after deleting is \", nums)\n",
    "max_num = max(nums)\n",
    "min_num = min(nums)\n",
    "print(\"The max num is \", max_num)\n",
    "print(\"The min num is \", min_num)"
   ]
  },
  {
   "cell_type": "markdown",
   "metadata": {},
   "source": [
    "2. Create a tuple and print the reverse of the created tuple"
   ]
  },
  {
   "cell_type": "code",
   "execution_count": 13,
   "metadata": {},
   "outputs": [
    {
     "name": "stdout",
     "output_type": "stream",
     "text": [
      "('a', 'n', 'a', 'h', 'a', 'a')\n",
      "(25, 16, 9, 4, 1)\n"
     ]
    }
   ],
   "source": [
    "tuple = ('a','a','h','a','n','a')\n",
    "print(tuple[::-1])\n",
    "nums_tuple = (1, 4, 9, 16, 25)\n",
    "print(nums_tuple[::-1])"
   ]
  },
  {
   "cell_type": "markdown",
   "metadata": {},
   "source": [
    "3. Create a tuple and convert tuple into list"
   ]
  },
  {
   "cell_type": "code",
   "execution_count": 18,
   "metadata": {},
   "outputs": [
    {
     "name": "stdout",
     "output_type": "stream",
     "text": [
      "('a', 'b', 'c', 'd')\n",
      "['a', 'b', 'c', 'd']\n"
     ]
    },
    {
     "data": {
      "text/plain": [
       "list"
      ]
     },
     "execution_count": 18,
     "metadata": {},
     "output_type": "execute_result"
    }
   ],
   "source": [
    "alpha = ('a', 'b', 'c', 'd')\n",
    "print(alpha)\n",
    "alpha = list(alpha)\n",
    "print(alpha)\n",
    "nums_tuple = (1, 4, 9, 16, 25)\n",
    "nums_tuple = list(nums_tuple)\n",
    "type(nums_tuple)"
   ]
  },
  {
   "cell_type": "markdown",
   "metadata": {},
   "source": [
    "**Completed Day 1's notes & exercises**\n",
    "\n",
    "**THANK YOU!**\n",
    "\n",
    "Check out My Repository at https://github.com/AakankshaJarode/BestEnlist_Python_Internship.git\n",
    "\n",
    "Chech out My LinkedIn Page at https://www.linkedin.com/in/aakanksha-jarode-1b0195179"
   ]
  }
 ],
 "metadata": {
  "kernelspec": {
   "display_name": "Python 3",
   "language": "python",
   "name": "python3"
  },
  "language_info": {
   "codemirror_mode": {
    "name": "ipython",
    "version": 3
   },
   "file_extension": ".py",
   "mimetype": "text/x-python",
   "name": "python",
   "nbconvert_exporter": "python",
   "pygments_lexer": "ipython3",
   "version": "3.7.3"
  }
 },
 "nbformat": 4,
 "nbformat_minor": 2
}
