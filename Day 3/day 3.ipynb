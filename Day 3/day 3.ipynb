{
 "cells": [
  {
   "cell_type": "markdown",
   "metadata": {},
   "source": [
    "# Day 3 – DICTIONARY, SETS"
   ]
  },
  {
   "cell_type": "markdown",
   "metadata": {},
   "source": [
    "**Dictionary:**\n",
    "\n",
    "•\tPython provides another composite datatype called a dictionary, which is similar to a list in that it is a collection of objects.\n",
    "\n",
    "•\tA dictionary consists of a collection of key-value pairs. Each key-value pair maps the key to its associated value.\n",
    "\n",
    "•\tDictionary can be defined by enclosing a comma-separated list of key-value pairs in curly braces ({}). A colon (:) separates each key from its associated value\n",
    "\n",
    "•\tA value is retrieved from a dictionary by specifying its corresponding key in square brackets\n",
    "\n",
    "•\tAdding an entry to an existing dictionary is simply a matter of assigning a new key and value\n",
    "\n",
    "•\tIf you want to update an entry, you can just assign a new value to an existing key\n",
    "\n",
    "•\tDelete an entry, use the del statement, specifying the key to delete\n",
    "\n",
    "•\tThere is no restrictions on dictionary values.A dictionary value can be any type of ob-ject Python supports, including mutable types like lists and dictionaries, and user-defined objects\n",
    "\n",
    "•\ta given key can appear in a dictionary only once. Duplicate keys are not allowed\n",
    "\n",
    "•\tdictionary key must be of a type that is immutable. A tuple can also be a dictionary key, because tuples are immutable"
   ]
  },
  {
   "cell_type": "markdown",
   "metadata": {},
   "source": [
    "**Sets:**\n",
    "\n",
    "•\tA set is a collection which is unordered and unindexed. In Python, sets are written with curly brackets.\n",
    "\n",
    "Example: CSK = {\"dhoni\", \"bravo\", \"jadeja\"}\n",
    "\n",
    "•\tSet cannot access items in a set by referring to an index or a key.\n",
    "\n",
    "•\tTo add one item to a set use the add() method& To add more than one item to a set use the update() method.\n",
    "\n",
    "•\tRemove an item in a set, use the remove(), or the discard() method.\n"
   ]
  },
  {
   "cell_type": "markdown",
   "metadata": {},
   "source": [
    "**Exercise:**\n",
    "\n",
    "1)\tWrite a Python script to merge two Python dictionaries"
   ]
  },
  {
   "cell_type": "code",
   "execution_count": 9,
   "metadata": {},
   "outputs": [
    {
     "name": "stdout",
     "output_type": "stream",
     "text": [
      "{'Mumbai': 'Maharashtra', 'Kolkata': 'Bengal', 'Surat': 'Gujarat', 'Pune': 'Maharashtra', 'Indore': 'Madhya Pradesh'}\n"
     ]
    }
   ],
   "source": [
    "script1 = {\"Mumbai\" : \"Maharashtra\",\n",
    "            \"Kolkata\" : \"Bengal\",\n",
    "            \"Surat\" : \"Gujarat\"}\n",
    "script2 = {\"Pune\" : \"Maharashtra\",\n",
    "            \"Indore\" : \"Madhya Pradesh\"}\n",
    "script1.update(script2)\n",
    "print(script1)"
   ]
  },
  {
   "cell_type": "markdown",
   "metadata": {},
   "source": [
    "2)\tWrite a Python program to remove a key from a dictionary"
   ]
  },
  {
   "cell_type": "code",
   "execution_count": 10,
   "metadata": {},
   "outputs": [
    {
     "name": "stdout",
     "output_type": "stream",
     "text": [
      "{'Indore': 'Madhya Pradesh'}\n"
     ]
    }
   ],
   "source": [
    "del script2['Pune'] \n",
    "print(script2)"
   ]
  },
  {
   "cell_type": "markdown",
   "metadata": {},
   "source": [
    "3)\tWrite a Python program to map two lists into a dictionary"
   ]
  },
  {
   "cell_type": "code",
   "execution_count": 11,
   "metadata": {},
   "outputs": [
    {
     "name": "stdout",
     "output_type": "stream",
     "text": [
      "{'Nagpur': 'Maharashtra', 'Chennai': 'TN', 'Bangalore': 'Karnataka'}\n"
     ]
    }
   ],
   "source": [
    "City = [\"Nagpur\", \"Chennai\", \"Bangalore\"] \n",
    "State = [\"Maharashtra\", \"TN\", \"Karnataka\"]\n",
    "script = dict(zip(City, State))\n",
    "print(script)"
   ]
  },
  {
   "cell_type": "markdown",
   "metadata": {},
   "source": [
    "4)\tWrite a Python program to find the length of a set"
   ]
  },
  {
   "cell_type": "code",
   "execution_count": 13,
   "metadata": {},
   "outputs": [
    {
     "name": "stdout",
     "output_type": "stream",
     "text": [
      "4\n"
     ]
    }
   ],
   "source": [
    "names = {\"Aakanksha\", \"Aman\", \"Aahana\", \"Jay\"}\n",
    "print(len(names))"
   ]
  },
  {
   "cell_type": "markdown",
   "metadata": {},
   "source": [
    "5)\tWrite a Python program to remove the intersection of a 2nd set from the 1st set\n"
   ]
  },
  {
   "cell_type": "code",
   "execution_count": 15,
   "metadata": {},
   "outputs": [
    {
     "name": "stdout",
     "output_type": "stream",
     "text": [
      "{'Aakanksha', 'Aman'}\n"
     ]
    }
   ],
   "source": [
    "moreNames = {\"Archies\", \"Aakanksha\", \"Aman\", \"Aaryan\", \"Amruta\"}\n",
    "intersectedNames = names.intersection(moreNames)\n",
    "print(intersectedNames)"
   ]
  },
  {
   "cell_type": "markdown",
   "metadata": {},
   "source": [
    "**Completed Day 1's notes & exercises**\n",
    "\n",
    "**THANK YOU!**\n",
    "\n",
    "Check out My Repository at https://github.com/AakankshaJarode/BestEnlist_Python_Internship.git\n",
    "\n",
    "Chech out My LinkedIn Page at https://www.linkedin.com/in/aakanksha-jarode-1b0195179"
   ]
  }
 ],
 "metadata": {
  "kernelspec": {
   "display_name": "Python 3",
   "language": "python",
   "name": "python3"
  },
  "language_info": {
   "codemirror_mode": {
    "name": "ipython",
    "version": 3
   },
   "file_extension": ".py",
   "mimetype": "text/x-python",
   "name": "python",
   "nbconvert_exporter": "python",
   "pygments_lexer": "ipython3",
   "version": "3.7.3"
  }
 },
 "nbformat": 4,
 "nbformat_minor": 2
}
