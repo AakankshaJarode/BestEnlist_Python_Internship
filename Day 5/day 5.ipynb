{
 "cells": [
  {
   "cell_type": "markdown",
   "metadata": {},
   "source": [
    "# Day 5 – FUNCTIONS"
   ]
  },
  {
   "cell_type": "markdown",
   "metadata": {},
   "source": [
    "•\tA function is a set of statements that take inputs, do some specific computation and produces output. The idea is to put some commonly or repeatedly done task together and make a function, so that instead of writing the same code again and again for different inputs, we can call the function."
   ]
  },
  {
   "cell_type": "code",
   "execution_count": 1,
   "metadata": {},
   "outputs": [
    {
     "name": "stdout",
     "output_type": "stream",
     "text": [
      "[20, 2, 3, 4, 5]\n"
     ]
    }
   ],
   "source": [
    "def myFun(num): \n",
    "    num[0] = 20\n",
    "  \n",
    "list = [1, 2, 3, 4, 5]  \n",
    "myFun(list)\n",
    "print(list) #list will be changed after the function call"
   ]
  },
  {
   "cell_type": "markdown",
   "metadata": {},
   "source": [
    "•\tA function is defined using the def keyword"
   ]
  },
  {
   "cell_type": "code",
   "execution_count": 2,
   "metadata": {},
   "outputs": [],
   "source": [
    "def my_function():\n",
    "    print(\"Hello from a function\")"
   ]
  },
  {
   "cell_type": "markdown",
   "metadata": {},
   "source": [
    "•\tCalling a function is easy as to call only the function name"
   ]
  },
  {
   "cell_type": "code",
   "execution_count": 3,
   "metadata": {},
   "outputs": [],
   "source": [
    "def my_function():\n",
    "  print(\"Hello from a function\")"
   ]
  },
  {
   "cell_type": "markdown",
   "metadata": {},
   "source": [
    "•\tArguments are specified after the function name, inside the parentheses. You can add n number of  arguments"
   ]
  },
  {
   "cell_type": "code",
   "execution_count": 4,
   "metadata": {},
   "outputs": [
    {
     "name": "stdout",
     "output_type": "stream",
     "text": [
      "Player name is Dhoni\n",
      "Player name is Raina\n",
      "Player name is Sam\n"
     ]
    }
   ],
   "source": [
    "def csk(fname):\n",
    "  print('Player name is ' + fname)\n",
    "\n",
    "csk(\"Dhoni\")\n",
    "csk(\"Raina\")\n",
    "csk(\"Sam\")"
   ]
  },
  {
   "cell_type": "markdown",
   "metadata": {},
   "source": [
    "**A parameter is the variable listed inside the parentheses in the function definition.**\n",
    "\n",
    "**An Argument is the value that is sent to the function when it is called.**"
   ]
  },
  {
   "cell_type": "markdown",
   "metadata": {},
   "source": [
    "•\tif your function expects 2 arguments, you have to call the function with 2 arguments, not more, and not less"
   ]
  },
  {
   "cell_type": "code",
   "execution_count": 5,
   "metadata": {},
   "outputs": [
    {
     "name": "stdout",
     "output_type": "stream",
     "text": [
      "Dhoni VS Kohli\n"
     ]
    }
   ],
   "source": [
    "def ipl(csk_cap,rcb_cap):\n",
    "    print(csk_cap + ' VS ' + rcb_cap)\n",
    "\n",
    "ipl(\"Dhoni\",'Kohli')"
   ]
  },
  {
   "cell_type": "markdown",
   "metadata": {},
   "source": [
    "•\tIf you do not know how many arguments that will be passed into your function, add a * before the parameter name in the function definition."
   ]
  },
  {
   "cell_type": "code",
   "execution_count": 6,
   "metadata": {},
   "outputs": [
    {
     "name": "stdout",
     "output_type": "stream",
     "text": [
      "The youngest member is sam\n"
     ]
    }
   ],
   "source": [
    "def my_function(*team):\n",
    "  print(\"The youngest member is \" + team[0])\n",
    "\n",
    "my_function(\"sam\", \"tom\", \"ben\")"
   ]
  },
  {
   "cell_type": "markdown",
   "metadata": {},
   "source": [
    "•\tYou can also send arguments with the key = value syntax & the order of the arguments does not matter.\n"
   ]
  },
  {
   "cell_type": "code",
   "execution_count": 7,
   "metadata": {},
   "outputs": [
    {
     "name": "stdout",
     "output_type": "stream",
     "text": [
      "The youngest child is Sam\n"
     ]
    }
   ],
   "source": [
    "def my_function(child3, child2, child1):\n",
    "  print(\"The youngest child is \" + child1)\n",
    "\n",
    "my_function(child1 = \"Sam\", child2 = \"Ben\", child3 = \"Tom\")"
   ]
  },
  {
   "cell_type": "markdown",
   "metadata": {},
   "source": [
    "•\tIf you do not know how many keyword arguments that will be passed into your function, add two asterisk: ** before the parameter name in the function definition."
   ]
  },
  {
   "cell_type": "code",
   "execution_count": 8,
   "metadata": {},
   "outputs": [
    {
     "name": "stdout",
     "output_type": "stream",
     "text": [
      "His last player is Deepak\n"
     ]
    }
   ],
   "source": [
    "def my_function(**players):\n",
    "    print(\"His last player is \" + players[\"lplayer\"])\n",
    "    \n",
    "my_function(fplayer = \"Rayudu\", lplayer = \"Deepak\")"
   ]
  },
  {
   "cell_type": "markdown",
   "metadata": {},
   "source": [
    "•\tTo let a function return a value, use the return statement:"
   ]
  },
  {
   "cell_type": "code",
   "execution_count": 9,
   "metadata": {},
   "outputs": [
    {
     "name": "stdout",
     "output_type": "stream",
     "text": [
      "15\n"
     ]
    }
   ],
   "source": [
    "def my_function(x):\n",
    "    return 5 * x\n",
    "print(my_function(3))"
   ]
  },
  {
   "cell_type": "markdown",
   "metadata": {},
   "source": [
    "•\tpassing a default value while initiation"
   ]
  },
  {
   "cell_type": "code",
   "execution_count": 10,
   "metadata": {},
   "outputs": [
    {
     "name": "stdout",
     "output_type": "stream",
     "text": [
      "Captain for CSK is Dhoni\n"
     ]
    }
   ],
   "source": [
    "def csk(fname = 'Dhoni'):\n",
    "    print('Captain for CSK is ' + fname)\n",
    "csk()"
   ]
  },
  {
   "cell_type": "markdown",
   "metadata": {},
   "source": [
    "# Exercise:\n",
    "**1)Create a function getting two integer inputs from user. & print the following:**\n",
    "\n",
    "    Addi|tion of two numbers is +value\n",
    "    Subtraction of two numbers is +value\n",
    "    Division of two numbers is +value\n",
    "    Multiplication of two numbers is +value\n",
    "    \n",
    "Here the value represents math function associated"
   ]
  },
  {
   "cell_type": "code",
   "execution_count": 11,
   "metadata": {},
   "outputs": [
    {
     "name": "stdout",
     "output_type": "stream",
     "text": [
      "Enter the first no.4\n",
      "Enter the second no.1\n",
      "Addition of two numbers is  5\n",
      "Subtraction of two numbers is  3\n",
      "Division of two numbers is  4.0\n",
      "Multiplication of two numbers is  4\n"
     ]
    }
   ],
   "source": [
    "a = int(input(\"Enter the first no.\"))          \n",
    "b = int(input(\"Enter the second no.\"))         \n",
    "def calculations(x, y):\n",
    "    print(\"Addition of two numbers is \", x+y)\n",
    "    print(\"Subtraction of two numbers is \", x-y)\n",
    "    print(\"Division of two numbers is \", x/y)\n",
    "    print(\"Multiplication of two numbers is \", x*y)\n",
    "\n",
    "calculations(a, b)"
   ]
  },
  {
   "cell_type": "markdown",
   "metadata": {},
   "source": [
    "**2) Create a function covid( ) & it should accept patient name, and body temperature, by default the body temperature should be 98 degree**"
   ]
  },
  {
   "cell_type": "code",
   "execution_count": 15,
   "metadata": {},
   "outputs": [
    {
     "name": "stdout",
     "output_type": "stream",
     "text": [
      "Enter Patient Name : Aakanksha\n",
      "Enter Body Temperature : 96\n",
      "The name of patient is Aakanksha\n",
      "The body temperature of the patient is  96\n",
      "The name of patient is Aakanksha\n",
      "The body temperature of the patient is  98\n"
     ]
    }
   ],
   "source": [
    "name = str(input('Enter Patient Name : '))\n",
    "body_temperature = int(input('Enter Body Temperature : '))\n",
    "\n",
    "def covid(name, temperature=\"98\"):\n",
    "   print(\"The name of patient is \" + name)\n",
    "   print(\"The body temperature of the patient is \", temperature)\n",
    "        \n",
    "covid(name, body_temperature)\n",
    "covid(name)"
   ]
  },
  {
   "cell_type": "markdown",
   "metadata": {},
   "source": [
    "**Completed Day 1's notes & exercises**\n",
    "\n",
    "**THANK YOU!**\n",
    "\n",
    "Check out My Repository at https://github.com/AakankshaJarode/BestEnlist_Python_Internship.git\n",
    "\n",
    "Chech out My LinkedIn Page at https://www.linkedin.com/in/aakanksha-jarode-1b0195179"
   ]
  }
 ],
 "metadata": {
  "kernelspec": {
   "display_name": "Python 3",
   "language": "python",
   "name": "python3"
  },
  "language_info": {
   "codemirror_mode": {
    "name": "ipython",
    "version": 3
   },
   "file_extension": ".py",
   "mimetype": "text/x-python",
   "name": "python",
   "nbconvert_exporter": "python",
   "pygments_lexer": "ipython3",
   "version": "3.7.3"
  }
 },
 "nbformat": 4,
 "nbformat_minor": 2
}
