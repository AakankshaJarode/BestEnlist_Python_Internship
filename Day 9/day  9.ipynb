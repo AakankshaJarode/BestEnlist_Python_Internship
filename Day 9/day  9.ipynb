{
 "cells": [
  {
   "cell_type": "markdown",
   "metadata": {},
   "source": [
    "# Day 9 – LAMBDA"
   ]
  },
  {
   "cell_type": "markdown",
   "metadata": {},
   "source": [
    "**Lambda**\n",
    "\n",
    "● A lambda function is a small anonymous function & can take any number of arguments, but only have one expression\n",
    "\n",
    "● Python Lambda function is known as the anonymous function that is defined without a name. Python allows us to not declare the function in the standard manner, i.e., by using the def keyword. Rather, the anonymous functions are declared by using the lambda keyword\n",
    "\n",
    "    lambda arguments : expression\n",
    "Add 10 to argument a, and return the result:"
   ]
  },
  {
   "cell_type": "code",
   "execution_count": 1,
   "metadata": {},
   "outputs": [
    {
     "name": "stdout",
     "output_type": "stream",
     "text": [
      "15\n"
     ]
    }
   ],
   "source": [
    "x = lambda m : m + 10\n",
    "print(x(5))"
   ]
  },
  {
   "cell_type": "markdown",
   "metadata": {},
   "source": [
    "● A bound variable is an argument to a lambda function In contrast, a free variable is not bound and may be referenced in the body of the expression. A free variable can be a constant or a variable defined in the enclosing scope of a function.\n",
    "\n",
    "● Lambda functions can take any number of arguments\n",
    "\n",
    "● The power of lambda is better shown when you use them as an anonymous function inside another function, when you have a function definition that takes one argument, and that argument will be multiplied with an unknown number."
   ]
  },
  {
   "cell_type": "code",
   "execution_count": 2,
   "metadata": {},
   "outputs": [
    {
     "name": "stdout",
     "output_type": "stream",
     "text": [
      "22\n"
     ]
    }
   ],
   "source": [
    "def myfunc(n):\n",
    "    return lambda a : a * n\n",
    "\n",
    "mydoubler = myfunc(2)\n",
    "\n",
    "print(mydoubler(11))"
   ]
  },
  {
   "cell_type": "markdown",
   "metadata": {},
   "source": [
    "**Use lambda functions when an anonymous function is required for a short period of time.**\n",
    "\n",
    "● The Python built-in filter() function accepts a function and a list as an argument. It provides an effective way to filter out all elements of the sequence. It returns the new sequence in which the function evaluates to True.\n",
    "\n",
    "    tuple(filter(lambda x:(x % 3 == 0),lst))\n",
    "● The map() function in Python accepts a function and a list. It gives a new list which contains all modified items returned by the function for each item.\n",
    "\n",
    "    list(map(lambda x : x ** 2, lst)) "
   ]
  },
  {
   "cell_type": "markdown",
   "metadata": {},
   "source": [
    "# Exercises\n",
    "\n",
    "**● Create a lambda function that multiplies argument x with argument y**"
   ]
  },
  {
   "cell_type": "code",
   "execution_count": 3,
   "metadata": {},
   "outputs": [
    {
     "name": "stdout",
     "output_type": "stream",
     "text": [
      "120\n"
     ]
    }
   ],
   "source": [
    "a = lambda x, y : x * y\n",
    "print(a(12, 10))"
   ]
  },
  {
   "cell_type": "markdown",
   "metadata": {},
   "source": [
    "**● Write a Python program to create Fibonacci series to n using Lambda**"
   ]
  },
  {
   "cell_type": "code",
   "execution_count": 5,
   "metadata": {},
   "outputs": [
    {
     "name": "stdout",
     "output_type": "stream",
     "text": [
      "20\n",
      "[0, 1, 1, 2, 3, 5, 8, 13, 21, 34, 55, 89, 144, 233, 377, 610, 987, 1597, 2584, 4181]\n"
     ]
    }
   ],
   "source": [
    "def fibonacci(count):\n",
    "    listA = [0, 1]\n",
    "    any(map(lambda _:listA.append(sum(listA[-2:])),\n",
    "         range(2, count)))\n",
    "    return listA[:count]\n",
    "print(fibonacci(int(input())))"
   ]
  },
  {
   "cell_type": "markdown",
   "metadata": {},
   "source": [
    "**● Write a Python program that multiply each number of given list with a given number**"
   ]
  },
  {
   "cell_type": "code",
   "execution_count": 7,
   "metadata": {},
   "outputs": [
    {
     "name": "stdout",
     "output_type": "stream",
     "text": [
      "Given List:  [1, 4, 9, 16, 25]\n",
      "\n",
      "Given number:  5\n",
      "\n",
      "Result: [5, 20, 45, 80, 125]\n"
     ]
    }
   ],
   "source": [
    "num = [1, 4, 9, 16, 25]\n",
    "x = 5\n",
    "print(\"Given List: \", num)\n",
    "print(\"\\nGiven number: \", x)\n",
    "nums_updated = list(map(lambda y:y*x, num))\n",
    "print(\"\\nResult:\", nums_updated)"
   ]
  },
  {
   "cell_type": "markdown",
   "metadata": {},
   "source": [
    "**● Write a Python program to find numbers divisible by 9 from a list of numbers**"
   ]
  },
  {
   "cell_type": "code",
   "execution_count": 8,
   "metadata": {},
   "outputs": [
    {
     "name": "stdout",
     "output_type": "stream",
     "text": [
      "Numbers divisible by 9 are [9, 36]\n"
     ]
    }
   ],
   "source": [
    "nums = [1, 4, 9, 16, 25, 36]\n",
    "result = list(filter(lambda x: (x % 9 == 0), nums))\n",
    "print(\"Numbers divisible by 9 are\",result)"
   ]
  },
  {
   "cell_type": "markdown",
   "metadata": {},
   "source": [
    "**● Write a Python program to count the even numbers in a given list of integers**"
   ]
  },
  {
   "cell_type": "code",
   "execution_count": 10,
   "metadata": {},
   "outputs": [
    {
     "name": "stdout",
     "output_type": "stream",
     "text": [
      "Even numbers in the list are [4, 16, 36]\n",
      "count is 3\n"
     ]
    }
   ],
   "source": [
    "nums = [1, 4, 9, 16, 25, 36]\n",
    "result = list(filter(lambda x: (x % 2 == 0), nums))\n",
    "print(\"Even numbers in the list are\",result)\n",
    "print(\"count is\",len(result))"
   ]
  },
  {
   "cell_type": "markdown",
   "metadata": {},
   "source": [
    "**Completed Day 9's notes & exercises**\n",
    "\n",
    "**THANK YOU!**\n",
    "\n",
    "Check out My Repository at https://github.com/AakankshaJarode/BestEnlist_Python_Internship.git\n",
    "\n",
    "Chech out My LinkedIn Page at https://www.linkedin.com/in/aakanksha-jarode-1b0195179"
   ]
  }
 ],
 "metadata": {
  "kernelspec": {
   "display_name": "Python 3",
   "language": "python",
   "name": "python3"
  },
  "language_info": {
   "codemirror_mode": {
    "name": "ipython",
    "version": 3
   },
   "file_extension": ".py",
   "mimetype": "text/x-python",
   "name": "python",
   "nbconvert_exporter": "python",
   "pygments_lexer": "ipython3",
   "version": "3.7.3"
  }
 },
 "nbformat": 4,
 "nbformat_minor": 2
}
