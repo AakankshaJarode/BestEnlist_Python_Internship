{
 "cells": [
  {
   "cell_type": "markdown",
   "metadata": {},
   "source": [
    "# DAY 6 - TASK\n",
    "**1. Write a program to loop through a list of numbers and add +2 to every value to elements in list**"
   ]
  },
  {
   "cell_type": "code",
   "execution_count": 1,
   "metadata": {},
   "outputs": [
    {
     "name": "stdout",
     "output_type": "stream",
     "text": [
      "[0, 1, 2, 3, 4, 5, 6]\n",
      "The updated list is: [2, 3, 4, 5, 6, 7, 8]\n"
     ]
    }
   ],
   "source": [
    "nums = [0,1,2,3,4,5,6]\n",
    "print(nums)\n",
    "nums = [i+2 for i in nums] \n",
    "print(\"The updated list is:\", nums)"
   ]
  },
  {
   "cell_type": "markdown",
   "metadata": {},
   "source": [
    "**2. Write a program to get the below pattern**\n",
    "\n",
    "    54321\n",
    "    4321\n",
    "    321\n",
    "    21\n",
    "    1"
   ]
  },
  {
   "cell_type": "code",
   "execution_count": 2,
   "metadata": {},
   "outputs": [
    {
     "name": "stdout",
     "output_type": "stream",
     "text": [
      "5 4 3 2 1 \n",
      "4 3 2 1 \n",
      "3 2 1 \n",
      "2 1 \n",
      "1 \n",
      "\n"
     ]
    }
   ],
   "source": [
    "x = 5\n",
    "for i in range(0, x + 1):\n",
    "    for j in range(x - i, 0, -1):\n",
    "        print(j, end=' ')\n",
    "    print()"
   ]
  },
  {
   "cell_type": "markdown",
   "metadata": {},
   "source": [
    "**3. Python Program to Print the Fibonacci sequence**"
   ]
  },
  {
   "cell_type": "code",
   "execution_count": 3,
   "metadata": {},
   "outputs": [
    {
     "name": "stdout",
     "output_type": "stream",
     "text": [
      "Enter the number: 10\n",
      "The Fibonacci series upto 10 is: [0, 1, 1, 2, 3, 5, 8, 13, 21, 34]\n"
     ]
    }
   ],
   "source": [
    "n = int(input(\"Enter the number: \"))\n",
    "Fibonacci = [0, 1]\n",
    "if n <= 0:\n",
    "    print(\"The Fibonacci Series upto \" + str(n) + \" is: \", Fibonacci[0])\n",
    "else:\n",
    "    for x in range(2, n):\n",
    "        num = Fibonacci[x-2] + Fibonacci[x-1]\n",
    "        Fibonacci.append(num)\n",
    "print(\"The Fibonacci series upto \" + str(n) + \" is:\", Fibonacci)"
   ]
  },
  {
   "cell_type": "markdown",
   "metadata": {},
   "source": [
    "**4. Explain Armstrong number and write a code with a function**"
   ]
  },
  {
   "cell_type": "code",
   "execution_count": 4,
   "metadata": {},
   "outputs": [
    {
     "name": "stdout",
     "output_type": "stream",
     "text": [
      "Enter the number: 143\n",
      "143 is not an Armstrong number\n",
      "None\n"
     ]
    }
   ],
   "source": [
    "def Armstrong(n): \n",
    "    n = int(input(\"Enter the number: \"))\n",
    "    sum = 0\n",
    "    temp = n\n",
    "\n",
    "    while temp > 0:  \n",
    "       digit = temp % 10\n",
    "       sum += digit ** 3  \n",
    "       temp //= 10  \n",
    "  \n",
    "    if n == sum:  \n",
    "        print(n, \"is an Armstrong number\")  \n",
    "    else:  \n",
    "        print(n, \"is not an Armstrong number\")  \n",
    "\n",
    "print(Armstrong(n))"
   ]
  },
  {
   "cell_type": "markdown",
   "metadata": {},
   "source": [
    "**5. Write a program to print the multiplication table of 9**"
   ]
  },
  {
   "cell_type": "code",
   "execution_count": 7,
   "metadata": {},
   "outputs": [
    {
     "name": "stdout",
     "output_type": "stream",
     "text": [
      "Ranges till: \n",
      "20\n",
      "Multiplication tables of  9\n",
      "9 * 1 = 9\n",
      "9 * 2 = 18\n",
      "9 * 3 = 27\n",
      "9 * 4 = 36\n",
      "9 * 5 = 45\n",
      "9 * 6 = 54\n",
      "9 * 7 = 63\n",
      "9 * 8 = 72\n",
      "9 * 9 = 81\n",
      "9 * 10 = 90\n",
      "9 * 11 = 99\n",
      "9 * 12 = 108\n",
      "9 * 13 = 117\n",
      "9 * 14 = 126\n",
      "9 * 15 = 135\n",
      "9 * 16 = 144\n",
      "9 * 17 = 153\n",
      "9 * 18 = 162\n",
      "9 * 19 = 171\n",
      "9 * 20 = 180\n"
     ]
    }
   ],
   "source": [
    "ranges = int(input('Ranges till: \\n'))\n",
    "print('Multiplication tables of ', 9)\n",
    "for i in range(1, ranges+1):\n",
    "    print(9,\"*\",i,\"=\",9*i)"
   ]
  },
  {
   "cell_type": "markdown",
   "metadata": {},
   "source": [
    "**6. Check if a number is negative or positive**"
   ]
  },
  {
   "cell_type": "code",
   "execution_count": 8,
   "metadata": {},
   "outputs": [
    {
     "name": "stdout",
     "output_type": "stream",
     "text": [
      "Enter a number : 7\n",
      "The number is Positive\n"
     ]
    }
   ],
   "source": [
    "number = int(input('Enter a number : '))\n",
    "\n",
    "if number > 0:\n",
    "    print('The number is Positive')\n",
    "elif number < 0:\n",
    "    print('The number is negative')\n",
    "elif number == 0:\n",
    "    print('The number is Zero')"
   ]
  },
  {
   "cell_type": "markdown",
   "metadata": {},
   "source": [
    "**7. Write a program to convert the number of days to ages**"
   ]
  },
  {
   "cell_type": "code",
   "execution_count": 9,
   "metadata": {},
   "outputs": [
    {
     "name": "stdout",
     "output_type": "stream",
     "text": [
      "Enter the number of days: 1441\n",
      "The Age for 1441 days is 3 years and 49 weeks.\n"
     ]
    }
   ],
   "source": [
    "days = int(input(\"Enter the number of days: \"))\n",
    "years = int(days/365)\n",
    "weeks = int((days % 365) / 7)\n",
    "print(\"The Age for\",days,\"days is\",years,\"years and\",weeks,\"weeks.\")"
   ]
  },
  {
   "cell_type": "markdown",
   "metadata": {},
   "source": [
    "**8. Solve Trigonometry problem using math function write a program to solve using math function**"
   ]
  },
  {
   "cell_type": "code",
   "execution_count": 10,
   "metadata": {},
   "outputs": [
    {
     "name": "stdout",
     "output_type": "stream",
     "text": [
      "Enter the value of theta (in degrees) : 60\n",
      "sin( 60.0 ) =  0.8660254037844386\n",
      "cos( 60.0 ) =  0.5000000000000001\n",
      "tan( 60.0 ) =  1.7320508075688767\n"
     ]
    }
   ],
   "source": [
    "import math\n",
    "\n",
    "theta = float(input('Enter the value of theta (in degrees) : '))\n",
    "print('sin(',theta,') = ', math.sin(math.radians(theta)))\n",
    "print('cos(',theta,') = ', math.cos(math.radians(theta)))\n",
    "print('tan(',theta,') = ', math.tan(math.radians(theta)))"
   ]
  },
  {
   "cell_type": "markdown",
   "metadata": {},
   "source": [
    "**9. Create a calculator only on a code level by using if condition (Basic arithmetic calculation)**"
   ]
  },
  {
   "cell_type": "code",
   "execution_count": 11,
   "metadata": {},
   "outputs": [
    {
     "name": "stdout",
     "output_type": "stream",
     "text": [
      "Calculator\n",
      "Select: 1 -> Add  || 2 -> Substract || 3 -> Multiply || 4 -> Divide\n",
      "Enter the operation choice: 3\n",
      "Enter operand 1:7\n",
      "Enter operand 2:9\n",
      "Multiplication of 7 and 9 is 63\n"
     ]
    }
   ],
   "source": [
    "print(\"Calculator\")\n",
    "print(\"Select: 1 -> Add  || 2 -> Substract || 3 -> Multiply || 4 -> Divide\")\n",
    "operation = int(input(\"Enter the operation choice: \"))\n",
    "\n",
    "if operation == 1:\n",
    "    x = int(input(\"Enter operand 1:\"))\n",
    "    y = int(input(\"Enter operand 2:\"))\n",
    "    print(\"Addition of\",x,\"and\",y,\"is\",x+y)\n",
    "elif operation == 2:\n",
    "    x = int(input(\"Enter operand 1:\"))\n",
    "    y = int(input(\"Enter operand 2:\"))\n",
    "    print(\"Subtraction of\",x,\"and\",y,\"is\",x-y)\n",
    "elif operation == 3:\n",
    "    x = int(input(\"Enter operand 1:\"))\n",
    "    y = int(input(\"Enter operand 2:\"))\n",
    "    print(\"Multiplication of\",x,\"and\",y,\"is\",x*y)\n",
    "elif operation == 4:\n",
    "    x = int(input(\"Enter operand 1:\"))\n",
    "    y = int(input(\"Enter operand 2:\"))\n",
    "    print(\"Division of\",x,\"and\",y,\"is\",x/y)\n",
    "else:\n",
    "    print(\"Please make a valid Choice from 1 to 4\")"
   ]
  },
  {
   "cell_type": "markdown",
   "metadata": {},
   "source": [
    "**Completed Day 6's notes & exercises**\n",
    "\n",
    "**THANK YOU!**\n",
    "\n",
    "Check out My Repository at https://github.com/AakankshaJarode/BestEnlist_Python_Internship.git\n",
    "\n",
    "Chech out My LinkedIn Page at https://www.linkedin.com/in/aakanksha-jarode-1b0195179"
   ]
  }
 ],
 "metadata": {
  "kernelspec": {
   "display_name": "Python 3",
   "language": "python",
   "name": "python3"
  },
  "language_info": {
   "codemirror_mode": {
    "name": "ipython",
    "version": 3
   },
   "file_extension": ".py",
   "mimetype": "text/x-python",
   "name": "python",
   "nbconvert_exporter": "python",
   "pygments_lexer": "ipython3",
   "version": "3.7.3"
  }
 },
 "nbformat": 4,
 "nbformat_minor": 2
}
