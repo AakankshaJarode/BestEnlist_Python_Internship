{
 "cells": [
  {
   "cell_type": "markdown",
   "metadata": {},
   "source": [
    "# Day 10 – REGULAR EXPRESSION"
   ]
  },
  {
   "cell_type": "markdown",
   "metadata": {},
   "source": [
    "● Python has a built-in package called re, which can be used to work with Regular Expressions.\n",
    "\n",
    "    Import re\n",
    "    \n",
    "● The re module offers a set of functions that allows us to search a string for a match: A Regular Expression (RegEx) is a sequence of characters that defines a search pattern. For example,\n",
    "    \n",
    "    ^b...g$ \n",
    "\n",
    "● The above code defines a RegEx pattern. The pattern is: any five letter string starting with b and ending with g.\n",
    "\n",
    "● A pattern defined using RegEx can be used to match against a string."
   ]
  },
  {
   "cell_type": "markdown",
   "metadata": {},
   "source": [
    "**re.findall()**\n",
    "\n",
    "The re.findall() method returns a list of strings containing all matches.\n",
    "\n",
    "**re.split()**\n",
    "\n",
    "The re.split method splits the string where there is a match and returns a list of strings where the splits have occurred.\n",
    "\n",
    "**re.sub()**\n",
    "\n",
    "The syntax of re.sub() is:\n",
    "\n",
    "    re.sub(pattern, replace, string)\n",
    "\n",
    "**re.search()**\n",
    "\n",
    "The re.search() method takes two arguments: a pattern and a string. The method looks for the first location where the RegEx pattern produces a match with the string.\n"
   ]
  },
  {
   "cell_type": "markdown",
   "metadata": {},
   "source": [
    "# Exercise:\n",
    "**Write a Python program for all the cases which can check a string contains only a certain set of characters (in this case a-z, A-Z and 0-9).**"
   ]
  },
  {
   "cell_type": "code",
   "execution_count": 1,
   "metadata": {},
   "outputs": [
    {
     "name": "stdout",
     "output_type": "stream",
     "text": [
      "aahana@16\n",
      "False\n"
     ]
    }
   ],
   "source": [
    "import re\n",
    "def check(string):\n",
    "    char = re.compile(r'[^a-zA-Z0-9.]')\n",
    "    string = char.search(string)\n",
    "    return not bool(string)\n",
    "\n",
    "print(check(input()))"
   ]
  },
  {
   "cell_type": "markdown",
   "metadata": {},
   "source": [
    "**Write a Python program that matches a word containing 'ab'.**"
   ]
  },
  {
   "cell_type": "code",
   "execution_count": 2,
   "metadata": {},
   "outputs": [
    {
     "name": "stdout",
     "output_type": "stream",
     "text": [
      "absolutely\n",
      "Found a match!\n"
     ]
    }
   ],
   "source": [
    "import re\n",
    "def match(text):\n",
    "        pattern = '\\w*ab.\\w*'\n",
    "        if re.search(pattern,  text):\n",
    "                return 'Found a match!'\n",
    "        else:\n",
    "                return 'Not matched!'\n",
    "\n",
    "print(match(input()))"
   ]
  },
  {
   "cell_type": "markdown",
   "metadata": {},
   "source": [
    "**Write a Python program to check for a number at the end of a word/sentence.**"
   ]
  },
  {
   "cell_type": "code",
   "execution_count": 3,
   "metadata": {},
   "outputs": [
    {
     "name": "stdout",
     "output_type": "stream",
     "text": [
      "aahana 16\n",
      "True\n"
     ]
    }
   ],
   "source": [
    "import re\n",
    "def f(n):\n",
    "    a=re.compile(r\".*[0-9]$\")\n",
    "    if a.match(n):\n",
    "        return True\n",
    "    return False\n",
    "\n",
    "print(f(input()))"
   ]
  },
  {
   "cell_type": "markdown",
   "metadata": {},
   "source": [
    "**Write a Python program to search the numbers (0-9) of length between 1 to 3 in a given string.**"
   ]
  },
  {
   "cell_type": "code",
   "execution_count": 7,
   "metadata": {},
   "outputs": [
    {
     "name": "stdout",
     "output_type": "stream",
     "text": [
      "akj16@20\n",
      "16\n",
      "20\n"
     ]
    }
   ],
   "source": [
    "import re\n",
    "results = re.finditer(r\"([0-9]{1,3})\", input())\n",
    "for n in results:\n",
    "     print(n.group(0))"
   ]
  },
  {
   "cell_type": "markdown",
   "metadata": {},
   "source": [
    "**Write a Python program to match a string that contains only uppercase letters.**"
   ]
  },
  {
   "cell_type": "code",
   "execution_count": 9,
   "metadata": {},
   "outputs": [
    {
     "name": "stdout",
     "output_type": "stream",
     "text": [
      "False\n",
      "False\n",
      "True\n"
     ]
    }
   ],
   "source": [
    "import re\n",
    "def check(string):\n",
    "    r = re.compile(r'[^A-Z.]')\n",
    "    st = r.search(string)\n",
    "    return not bool(st)\n",
    "\n",
    "print(check(\"ABCabc123\")) \n",
    "print(check(\"COVID19\"))\n",
    "print(check(\"HELLO\"))"
   ]
  },
  {
   "cell_type": "markdown",
   "metadata": {},
   "source": [
    "**Completed Day 10's notes & exercises**\n",
    "\n",
    "**THANK YOU!**\n",
    "\n",
    "Check out My Repository at https://github.com/AakankshaJarode/BestEnlist_Python_Internship.git\n",
    "\n",
    "Chech out My LinkedIn Page at https://www.linkedin.com/in/aakanksha-jarode-1b0195179"
   ]
  }
 ],
 "metadata": {
  "kernelspec": {
   "display_name": "Python 3",
   "language": "python",
   "name": "python3"
  },
  "language_info": {
   "codemirror_mode": {
    "name": "ipython",
    "version": 3
   },
   "file_extension": ".py",
   "mimetype": "text/x-python",
   "name": "python",
   "nbconvert_exporter": "python",
   "pygments_lexer": "ipython3",
   "version": "3.7.3"
  }
 },
 "nbformat": 4,
 "nbformat_minor": 2
}
